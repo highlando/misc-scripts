{
 "metadata": {
  "name": "projOfDivFree"
 },
 "nbformat": 3,
 "nbformat_minor": 0,
 "worksheets": [
  {
   "cells": [
    {
     "cell_type": "markdown",
     "metadata": {},
     "source": [
      "On the $L^2$-FEM-Projection of Solenoidal Functions\n",
      "---\n",
      "\n",
      "An example that illustrates that the $L^2$ projection of a divergence free velocity field onto a \n",
      "\n",
      "*  stable \n",
      "*  mixed FEM\n",
      "\n",
      "function space is **not necessarily divergence free**!\n",
      "\n",
      "We use a uniform triangularization of the unit-square and the socalled *Taylor-Hood* elements.\n",
      "\n",
      "The implementation is in python and uses the `dolfin` interface (Version 1.2.0) to the open source FEM package [FEniCs](http://fenicsproject.org/)."
     ]
    },
    {
     "cell_type": "code",
     "collapsed": true,
     "input": [
      "import sympy as smp\n",
      "import numpy as np\n",
      "from dolfin import *"
     ],
     "language": "python",
     "metadata": {},
     "outputs": [],
     "prompt_number": 6
    },
    {
     "cell_type": "markdown",
     "metadata": {},
     "source": [
      "We set up a divergence free velocity field `sol_u` on the unit square. Also, `sol_u` is zero at the boundary."
     ]
    },
    {
     "cell_type": "code",
     "collapsed": false,
     "input": [
      "x, y = smp.symbols('x[0], x[1]')\n",
      "u_x = x*x*(1-x)*(1-x)*2*y*(1-y)*(2*y-1)\n",
      "u_y = y*y*(1-y)*(1-y)*2*x*(1-x)*(1-2*x)\n",
      "print 'div u = {}'.format( smp.simplify(smp.diff(u_x,x) + smp.diff(u_y,y)) )"
     ],
     "language": "python",
     "metadata": {},
     "outputs": [
      {
       "output_type": "stream",
       "stream": "stdout",
       "text": [
        "div u = 0\n"
       ]
      }
     ],
     "prompt_number": 7
    },
    {
     "cell_type": "markdown",
     "metadata": {},
     "source": [
      "Turn the symbolic expression into a Fenics expression."
     ]
    },
    {
     "cell_type": "code",
     "collapsed": true,
     "input": [
      "from sympy.printing import ccode\n",
      "sol_u = Expression((ccode(u_x), ccode(u_y)))"
     ],
     "language": "python",
     "metadata": {},
     "outputs": [],
     "prompt_number": 8
    },
    {
     "cell_type": "markdown",
     "metadata": {},
     "source": [
      "Then, we set up the $P_2-P_1$ (Taylor-Hood) discretization of $H_0^1-L^2$ on the unit square and project `sol_u` onto it. "
     ]
    },
    {
     "cell_type": "code",
     "collapsed": true,
     "input": [
      "# function spaces\n",
      "mesh = UnitSquareMesh(10, 10)\n",
      "V = VectorFunctionSpace(mesh, \"CG\", 2)\n",
      "Q = FunctionSpace(mesh, \"CG\", 1)\n",
      "\n",
      "# No-slip boundary condition for velocity\n",
      "noslip = Constant((0.0, 0.0))\n",
      "bc0 = DirichletBC(V, noslip, 'on_boundary')\n",
      "\n",
      "# projection\n",
      "u_fun = project(sol_u, V, solver_type = \"lu\", bcs=bc0)"
     ],
     "language": "python",
     "metadata": {},
     "outputs": [],
     "prompt_number": 9
    },
    {
     "cell_type": "markdown",
     "metadata": {},
     "source": [
      "The divergence in the $P_2-P_1$ FEM space is given as the divergence of a $P_2$-function tested against all basis functions of $P_1$. \n",
      "\n",
      "In our case we compute `div(u_fun)` and assemble the vector of the divergence by testing against all `q` in `Q`.\n",
      "\n",
      "Finally, we compute the norm (in `Q`) of the divergence of `u_fun` and divide it by the norm (in `V`) of `u_fun`, i.e. the relative residual in the discrete continuity equation. "
     ]
    },
    {
     "cell_type": "code",
     "collapsed": true,
     "input": [
      "q = TestFunction(Q)\n",
      "\n",
      "disc_div_u = assemble( q*div(u_fun) *dx)\n",
      "\n",
      "rel_div_res = norm(disc_div_u)/norm(u_fun)\n",
      "print '\\n And the relative residual in the \\n discrete divergence for the projected u is:\\n\\n {}\\n'.format(rel_div_res)"
     ],
     "language": "python",
     "metadata": {},
     "outputs": [
      {
       "output_type": "stream",
       "stream": "stdout",
       "text": [
        "\n",
        " And the relative residual in the \n",
        " discrete divergence for the projected u is:\n",
        "\n",
        " 0.000305862284925\n",
        "\n"
       ]
      }
     ],
     "prompt_number": 10
    },
    {
     "cell_type": "markdown",
     "metadata": {},
     "source": [
      "Questions or comments? Please visit me at [www.janheiland.de](http://www.janheiland.de)."
     ]
    }
   ],
   "metadata": {}
  }
 ]
}