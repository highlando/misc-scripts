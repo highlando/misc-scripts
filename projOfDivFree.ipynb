{
 "metadata": {
  "name": "projOfDivFree"
 }, 
 "nbformat": 2, 
 "worksheets": [
  {
   "cells": [
    {
     "cell_type": "markdown", 
     "source": [
      "$L^2$-FEM-Projection of solenoidal functions", 
      "---", 
      "", 
      "The projection of a divergence free velocity field onto a ", 
      "", 
      "*  stable ", 
      "*  mixed FEM", 
      "", 
      "function space is **not necessarily divergence free**!"
     ]
    }, 
    {
     "cell_type": "code", 
     "collapsed": true, 
     "input": [
      "import sympy as smp", 
      "import numpy as np", 
      "import scipy.sparse as sps", 
      "from dolfin import *", 
      "", 
      "parameters.linear_algebra_backend = \"uBLAS\""
     ], 
     "language": "python", 
     "outputs": [], 
     "prompt_number": 69
    }, 
    {
     "cell_type": "markdown", 
     "source": [
      "We set up a divergence free velocity field `sol_u` on the unit square."
     ]
    }, 
    {
     "cell_type": "code", 
     "collapsed": false, 
     "input": [
      "x, y, t, om = smp.symbols('x,y,t,om')", 
      "ft = smp.sin(om*t)", 
      "u_x = ft*x*x*(1-x)*(1-x)*2*y*(1-y)*(2*y-1)", 
      "u_y = ft*y*y*(1-y)*(1-y)*2*x*(1-x)*(1-2*x)", 
      "print 'div u = {}'.format( smp.simplify(smp.diff(u_x,x) + smp.diff(u_y,y)) )"
     ], 
     "language": "python", 
     "outputs": [
      {
       "output_type": "stream", 
       "stream": "stdout", 
       "text": [
        "div u = 0"
       ]
      }
     ], 
     "prompt_number": 70
    }, 
    {
     "cell_type": "code", 
     "collapsed": true, 
     "input": [
      "def sympy2expression(term):", 
      "    '''Translate a SymPy expression to a FEniCS expression string.", 
      "'''", 
      "       # This is somewhat ugly:", 
      "       # First replace the variables r, z, by something", 
      "       # that probably doesn't appear anywhere else,", 
      "       # e.g., RRR, ZZZ, then", 
      "       # convert this into a string,", 
      "       # and then replace the substrings RRR, ZZZ", 
      "       # by x[0], x[1], respectively.", 
      "    exp = smp.printing.ccode(term.subs('x','XXX').subs('y','YYY')) \\", 
      "        .replace('M_PI','pi') \\", 
      "        .replace('XXX','x[0]').replace('YYY','x[1]')", 
      "    return exp"
     ], 
     "language": "python", 
     "outputs": [], 
     "prompt_number": 71
    }, 
    {
     "cell_type": "code", 
     "collapsed": true, 
     "input": [
      "a = sympy2expression(u_x)", 
      "b = sympy2expression(u_y)", 
      "sol_u = Expression((a, b), t=1.0, om=1.0)"
     ], 
     "language": "python", 
     "outputs": [], 
     "prompt_number": 72
    }, 
    {
     "cell_type": "markdown", 
     "source": [
      "Then, we set up the $P_2-P_1$ (Taylor-Hood) discretization of $H^1-L^2$ on the unit square and project `sol_u` onto it. "
     ]
    }, 
    {
     "cell_type": "code", 
     "collapsed": false, 
     "input": [
      "# function spaces", 
      "mesh = UnitSquareMesh(10, 10)", 
      "V = VectorFunctionSpace(mesh, \"CG\", 2)", 
      "Q = FunctionSpace(mesh, \"CG\", 1)", 
      "", 
      "# boundaries", 
      "def righttopleftbot(x, on_boundary):", 
      "    return (x[1] > 1.0 - DOLFIN_EPS", 
      "        or x[0] > 1.0 - DOLFIN_EPS", 
      "        or x[1] < DOLFIN_EPS", 
      "        or x[0] < DOLFIN_EPS)", 
      "", 
      "# No-slip boundary condition for velocity", 
      "noslip = Constant((0.0, 0.0))", 
      "bc0 = DirichletBC(V, noslip, righttopleftbot)", 
      "", 
      "", 
      "ufun = project(sol_u, V, solver_type = \"lu\", bcs=bc0)", 
      "uvec = ufun.vector().array().reshape(len(ufun.vector()), 1)"
     ], 
     "language": "python", 
     "outputs": [], 
     "prompt_number": 73
    }, 
    {
     "cell_type": "markdown", 
     "source": [
      "And assemble the matrix `J` that represents the discrete divergence."
     ]
    }, 
    {
     "cell_type": "code", 
     "collapsed": false, 
     "input": [
      "u = TrialFunction(V)", 
      "q = TestFunction(Q)", 
      "", 
      "diva = q*div(u)*dx", 
      "Div = assemble(diva)", 
      "rows, cols, values = Div.data()", 
      "J = sps.csr_matrix((values, cols, rows))"
     ], 
     "language": "python", 
     "outputs": [], 
     "prompt_number": 74
    }, 
    {
     "cell_type": "markdown", 
     "source": [
      "Then `J*uvec` means the discrete divergence operator applied to the projected velocity field."
     ]
    }, 
    {
     "cell_type": "code", 
     "collapsed": false, 
     "input": [
      "np.linalg.norm(J*uvec)"
     ], 
     "language": "python", 
     "outputs": [
      {
       "output_type": "pyout", 
       "prompt_number": 75, 
       "text": [
        "2.0009754943981705e-06"
       ]
      }
     ], 
     "prompt_number": 75
    }
   ]
  }
 ]
}