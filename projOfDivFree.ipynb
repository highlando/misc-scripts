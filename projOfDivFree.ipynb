{
 "metadata": {
  "name": "projOfDivFree"
 },
 "nbformat": 3,
 "nbformat_minor": 0,
 "worksheets": [
  {
   "cells": [
    {
     "cell_type": "markdown",
     "metadata": {},
     "source": [
      "On the $L^2$-FEM-Projection of Solenoidal Functions\n",
      "---\n",
      "\n",
      "An example that illustrates that the projection of a divergence free velocity field onto a \n",
      "\n",
      "*  stable \n",
      "*  mixed FEM\n",
      "\n",
      "function space is **not necessarily divergence free**!\n",
      "\n",
      "We use a uniform triangularization of the unit-square and the socalled *Taylor-Hood* elements.\n",
      "\n",
      "The implementation is in python and uses the `dolfin` interface (Version 1.2.0) to the open source FEM package [FEniCs](http://fenicsproject.org/)."
     ]
    },
    {
     "cell_type": "code",
     "collapsed": true,
     "input": [
      "import sympy as smp\n",
      "import numpy as np\n",
      "import scipy.sparse as sps\n",
      "from dolfin import *\n",
      "\n",
      "parameters.linear_algebra_backend = \"uBLAS\""
     ],
     "language": "python",
     "metadata": {},
     "outputs": [],
     "prompt_number": 16
    },
    {
     "cell_type": "markdown",
     "metadata": {},
     "source": [
      "We set up a divergence free velocity field `sol_u` on the unit square."
     ]
    },
    {
     "cell_type": "code",
     "collapsed": false,
     "input": [
      "x, y = smp.symbols('x,y')\n",
      "u_x = x*x*(1-x)*(1-x)*2*y*(1-y)*(2*y-1)\n",
      "u_y = y*y*(1-y)*(1-y)*2*x*(1-x)*(1-2*x)\n",
      "print 'div u = {}'.format( smp.simplify(smp.diff(u_x,x) + smp.diff(u_y,y)) )"
     ],
     "language": "python",
     "metadata": {},
     "outputs": [
      {
       "output_type": "stream",
       "stream": "stdout",
       "text": [
        "div u = 0\n"
       ]
      }
     ],
     "prompt_number": 17
    },
    {
     "cell_type": "markdown",
     "metadata": {},
     "source": [
      "Turn the symbolic expression into a Fenics expression."
     ]
    },
    {
     "cell_type": "code",
     "collapsed": true,
     "input": [
      "def sympy2expression(term):\n",
      "    '''Translate a SymPy expression to a FEniCS expression string.\n",
      "    '''\n",
      "    exp = smp.printing.ccode(term).replace('x','x[0]').replace('y','x[1]')\n",
      "    return exp\n",
      "\n",
      "sol_u = Expression((sympy2expression(u_x), sympy2expression(u_y)))"
     ],
     "language": "python",
     "metadata": {},
     "outputs": [],
     "prompt_number": 18
    },
    {
     "cell_type": "markdown",
     "metadata": {},
     "source": [
      "Then, we set up the $P_2-P_1$ (Taylor-Hood) discretization of $H_0^1-L^2$ on the unit square and project `sol_u` onto it. "
     ]
    },
    {
     "cell_type": "code",
     "collapsed": true,
     "input": [
      "# function spaces\n",
      "mesh = UnitSquareMesh(10, 10)\n",
      "V = VectorFunctionSpace(mesh, \"CG\", 2)\n",
      "Q = FunctionSpace(mesh, \"CG\", 1)\n",
      "\n",
      "# No-slip boundary condition for velocity\n",
      "noslip = Constant((0.0, 0.0))\n",
      "bc0 = DirichletBC(V, noslip, 'on_boundary')\n",
      "\n",
      "# projection\n",
      "ufun = project(sol_u, V, solver_type = \"lu\", bcs=bc0)\n",
      "uvec = ufun.vector().array().reshape(len(ufun.vector()), 1)"
     ],
     "language": "python",
     "metadata": {},
     "outputs": [],
     "prompt_number": 19
    },
    {
     "cell_type": "markdown",
     "metadata": {},
     "source": [
      "And assemble the matrix `J` that represents the discrete divergence. That is `div` of the discrete ansatz function `u` in `V` is tested against all testfunctions `q` in `Q`."
     ]
    },
    {
     "cell_type": "code",
     "collapsed": true,
     "input": [
      "u = TrialFunction(V)\n",
      "q = TestFunction(Q)\n",
      "\n",
      "Div = assemble( q*div(u) *dx)\n",
      "rows, cols, values = Div.data()\n",
      "J = sps.csr_matrix((values, cols, rows))"
     ],
     "language": "python",
     "metadata": {},
     "outputs": [],
     "prompt_number": 20
    },
    {
     "cell_type": "markdown",
     "metadata": {},
     "source": [
      "Finally, we compute the norm of `J*uvec` divided by the norm of `uvec`, i.e. the relative residual in the discrete continuity equation. "
     ]
    },
    {
     "cell_type": "code",
     "collapsed": false,
     "input": [
      "np.linalg.norm(J*uvec)/np.linalg.norm(uvec)"
     ],
     "language": "python",
     "metadata": {},
     "outputs": [
      {
       "output_type": "pyout",
       "prompt_number": 22,
       "text": [
        "1.5291001268335321e-05"
       ]
      }
     ],
     "prompt_number": 22
    },
    {
     "cell_type": "markdown",
     "metadata": {},
     "source": [
      "Questions or comments? Please visit me at [www.janheiland.de](http://www.janheiland.de)."
     ]
    }
   ],
   "metadata": {}
  }
 ]
}