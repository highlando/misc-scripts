{
 "metadata": {
  "name": "projOfDivFree"
 }, 
 "nbformat": 2, 
 "worksheets": [
  {
   "cells": [
    {
     "cell_type": "markdown", 
     "source": [
      "$L^2$-FEM-Projection of solenoidal functions", 
      "---", 
      "", 
      "The projection of a divergence free velocity field onto a ", 
      "", 
      "*  stable ", 
      "*  mixed FEM", 
      "", 
      "function space is **not necessarily divergence free**!", 
      "", 
      "We use python and the FEM package [FEniCs](http://fenicsproject.org/) with the `dolfin` python interface."
     ]
    }, 
    {
     "cell_type": "code", 
     "collapsed": true, 
     "input": [
      "import sympy as smp", 
      "import numpy as np", 
      "import scipy.sparse as sps", 
      "from dolfin import *", 
      "", 
      "parameters.linear_algebra_backend = \"uBLAS\""
     ], 
     "language": "python", 
     "outputs": [], 
     "prompt_number": 1
    }, 
    {
     "cell_type": "markdown", 
     "source": [
      "We set up a divergence free velocity field `sol_u` on the unit square."
     ]
    }, 
    {
     "cell_type": "code", 
     "collapsed": false, 
     "input": [
      "x, y = smp.symbols('x,y')", 
      "u_x = x*x*(1-x)*(1-x)*2*y*(1-y)*(2*y-1)", 
      "u_y = y*y*(1-y)*(1-y)*2*x*(1-x)*(1-2*x)", 
      "print 'div u = {}'.format( smp.simplify(smp.diff(u_x,x) + smp.diff(u_y,y)) )"
     ], 
     "language": "python", 
     "outputs": [
      {
       "output_type": "stream", 
       "stream": "stdout", 
       "text": [
        "div u = 0"
       ]
      }
     ], 
     "prompt_number": 2
    }, 
    {
     "cell_type": "markdown", 
     "source": [
      "Turn the symbolic expression into a Fenics expression."
     ]
    }, 
    {
     "cell_type": "code", 
     "collapsed": true, 
     "input": [
      "def sympy2expression(term):", 
      "    '''Translate a SymPy expression to a FEniCS expression string.", 
      "'''", 
      "    exp = smp.printing.ccode(term.subs('x','XXX').subs('y','YYY')) \\", 
      "        .replace('XXX','x[0]').replace('YYY','x[1]')", 
      "    return exp", 
      "", 
      "sol_u = Expression((sympy2expression(u_x), sympy2expression(u_y)))"
     ], 
     "language": "python", 
     "outputs": [], 
     "prompt_number": 3
    }, 
    {
     "cell_type": "markdown", 
     "source": [
      "Then, we set up the $P_2-P_1$ (Taylor-Hood) discretization of $H_0^1-L^2$ on the unit square and project `sol_u` onto it. "
     ]
    }, 
    {
     "cell_type": "code", 
     "collapsed": true, 
     "input": [
      "# function spaces", 
      "mesh = UnitSquareMesh(10, 10)", 
      "V = VectorFunctionSpace(mesh, \"CG\", 2)", 
      "Q = FunctionSpace(mesh, \"CG\", 1)", 
      "", 
      "# boundaries", 
      "def righttopleftbot(x, on_boundary):", 
      "    return (x[1] > 1.0 - DOLFIN_EPS", 
      "        or x[0] > 1.0 - DOLFIN_EPS", 
      "        or x[1] < DOLFIN_EPS", 
      "        or x[0] < DOLFIN_EPS)", 
      "", 
      "# No-slip boundary condition for velocity", 
      "noslip = Constant((0.0, 0.0))", 
      "bc0 = DirichletBC(V, noslip, righttopleftbot)", 
      "", 
      "# projection", 
      "ufun = project(sol_u, V, solver_type = \"lu\", bcs=bc0)", 
      "uvec = ufun.vector().array().reshape(len(ufun.vector()), 1)"
     ], 
     "language": "python", 
     "outputs": [], 
     "prompt_number": 4
    }, 
    {
     "cell_type": "markdown", 
     "source": [
      "And assemble the matrix `J` that represents the discrete divergence. That is `div` of the discrete ansatz function `u` in `V` is tested against all testfunctions `q` in `Q`."
     ]
    }, 
    {
     "cell_type": "code", 
     "collapsed": true, 
     "input": [
      "u = TrialFunction(V)", 
      "q = TestFunction(Q)", 
      "", 
      "diva = q*div(u)*dx", 
      "Div = assemble(diva)", 
      "rows, cols, values = Div.data()", 
      "J = sps.csr_matrix((values, cols, rows))"
     ], 
     "language": "python", 
     "outputs": [], 
     "prompt_number": 5
    }, 
    {
     "cell_type": "markdown", 
     "source": [
      "Finally, we compute the norm of `J*uvec`, i.e. the residual in the discrete continuity equation. "
     ]
    }, 
    {
     "cell_type": "code", 
     "collapsed": false, 
     "input": [
      "np.linalg.norm(J*uvec)"
     ], 
     "language": "python", 
     "outputs": [
      {
       "output_type": "pyout", 
       "prompt_number": 6, 
       "text": [
        "2.3779494843247373e-06"
       ]
      }
     ], 
     "prompt_number": 6
    }, 
    {
     "cell_type": "markdown", 
     "source": [
      "Questions or comments? Please visit me at [www.janheiland.de](http://www.janheiland.de)."
     ]
    }
   ]
  }
 ]
}